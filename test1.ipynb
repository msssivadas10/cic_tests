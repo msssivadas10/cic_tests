{
 "cells": [
  {
   "cell_type": "markdown",
   "metadata": {},
   "source": [
    "# Testing `pycic`"
   ]
  },
  {
   "cell_type": "code",
   "execution_count": 1,
   "metadata": {},
   "outputs": [],
   "source": [
    "import numpy as np\n",
    "import pycic\n",
    "\n",
    "import matplotlib.pyplot as plt\n",
    "plt.style.use('ggplot')"
   ]
  },
  {
   "cell_type": "markdown",
   "metadata": {},
   "source": [
    "## Testing Power Spectrum Objects\n",
    "\n",
    "Classes related to power spectrum are \n",
    "\n",
    "1. `cicPowerSpectrum`: to hold the linear matter power as a function of the scalar $k$\n",
    "2. `cicMeasPowerSpectrum`: to hold the measured count-in-cells power spectrum."
   ]
  },
  {
   "cell_type": "code",
   "execution_count": 7,
   "metadata": {},
   "outputs": [],
   "source": [
    "# create a linear power spectrum object from power spectrum data:\n",
    "# cosmology: h = 0.7, Om0 = 0.3, Ob0 = 0.05 Tcmb0 = 2.725, ns = 1.\n",
    "# k range: 1e-8 to 1e+8\n",
    "k, pk = np.loadtxt(\"./data/power.csv\", unpack = True, delimiter = ',')\n"
   ]
  }
 ],
 "metadata": {
  "interpreter": {
   "hash": "31f2aee4e71d21fbe5cf8b01ff0e069b9275f58929596ceb00d14d90e3e16cd6"
  },
  "kernelspec": {
   "display_name": "Python 3.8.10 64-bit",
   "language": "python",
   "name": "python3"
  },
  "language_info": {
   "codemirror_mode": {
    "name": "ipython",
    "version": 3
   },
   "file_extension": ".py",
   "mimetype": "text/x-python",
   "name": "python",
   "nbconvert_exporter": "python",
   "pygments_lexer": "ipython3",
   "version": "3.8.10"
  },
  "orig_nbformat": 4
 },
 "nbformat": 4,
 "nbformat_minor": 2
}
