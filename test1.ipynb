{
 "cells": [
  {
   "cell_type": "markdown",
   "metadata": {},
   "source": [
    "# Testing `pycic`"
   ]
  },
  {
   "cell_type": "code",
   "execution_count": 1,
   "metadata": {},
   "outputs": [],
   "source": [
    "import numpy as np\n",
    "import pycic\n",
    "\n",
    "import matplotlib.pyplot as plt\n",
    "plt.style.use('ggplot')"
   ]
  },
  {
   "cell_type": "markdown",
   "metadata": {},
   "source": [
    "## Testing `CountMatrix`"
   ]
  },
  {
   "cell_type": "code",
   "execution_count": 2,
   "metadata": {},
   "outputs": [
    {
     "data": {
      "text/plain": [
       "array([ 5,  4,  5,  8,  7,  6, 12,  5,  9,  7,  3,  6,  9,  8, 10, 15, 10,\n",
       "        6,  7,  6,  6,  6,  8,  8, 17,  8,  9,  6, 10, 19,  2,  6,  9, 12,\n",
       "        9, 10, 10,  7,  7,  8,  9,  5,  5, 10,  6,  6,  7,  8,  7,  5, 10,\n",
       "        6,  8,  5,  6, 12,  5,  9, 11,  9, 11,  7, 11,  9])"
      ]
     },
     "execution_count": 2,
     "metadata": {},
     "output_type": "execute_result"
    }
   ],
   "source": [
    "# 512 random objects\n",
    "x = np.random.uniform(0., 500., (512, 3))\n",
    "\n",
    "# put the objects to a box of length 500 unit\n",
    "# divide as 4**3 cells \n",
    "cm = pycic.CountMatrix(x, 4, 500., )\n",
    "\n",
    "# count in all cells\n",
    "cm.countVector()"
   ]
  },
  {
   "cell_type": "markdown",
   "metadata": {},
   "source": [
    "## Testing Catalog object: `CartesianCatalog`"
   ]
  },
  {
   "cell_type": "code",
   "execution_count": 3,
   "metadata": {},
   "outputs": [
    {
     "data": {
      "text/plain": [
       "<'CartesianCatalog' of 512 objects>"
      ]
     },
     "execution_count": 3,
     "metadata": {},
     "output_type": "execute_result"
    }
   ],
   "source": [
    "# uniform dist. positions in 500 unit box\n",
    "x = np.random.uniform(0., 500., (512, 3))\n",
    "\n",
    "# uniform dist. velocity in [-10, 10]\n",
    "v = np.random.uniform(-10., 10., (512, 3))\n",
    "\n",
    "# normally dist. mass \n",
    "m = np.random.normal(1.e+5, 5., (512, ))  \n",
    "\n",
    "# creating the catalog:\n",
    "cat = pycic.CartesianCatalog(x, v, mass = m, redshift = 0.)\n",
    "cat"
   ]
  },
  {
   "cell_type": "markdown",
   "metadata": {},
   "source": [
    "## Testing CIC Distribution, `cicDistribution`"
   ]
  },
  {
   "cell_type": "code",
   "execution_count": 4,
   "metadata": {},
   "outputs": [
    {
     "data": {
      "text/plain": [
       "<pycic.cicDistribution at 0x7f448b1227b8>"
      ]
     },
     "execution_count": 4,
     "metadata": {},
     "output_type": "execute_result"
    }
   ],
   "source": [
    "import lss2\n",
    "\n",
    "# cosmology object to get power spectrum\n",
    "cs = lss2.CosmoStructure(Om0 = 0.3, Ob0 = 0.05, sigma8 = 0.8, n = 1., h = 0.7, psmodel = \"eisenstein98_zb\")\n",
    "\n",
    "k = np.logspace(-6, 6, 201)\n",
    "pk = cs.matterPowerSpectrum(k, 0.)\n",
    "\n",
    "cd = pycic.cicDistribution(\n",
    "                            np.log(np.stack([k, pk], axis = -1)), # power table\n",
    "                            0.,                          # redshift\n",
    "                            cs.Om0, cs.Ode0, cs.h, cs.n, # cosmology param.\n",
    "                            1.95                         # cellsize\n",
    "                           )\n",
    "\n",
    "cd"
   ]
  },
  {
   "cell_type": "code",
   "execution_count": 5,
   "metadata": {},
   "outputs": [
    {
     "data": {
      "image/png": "[encoded data removed]",
      "text/plain": [
       "<Figure size 864x432 with 1 Axes>"
      ]
     },
     "metadata": {},
     "output_type": "display_data"
    }
   ],
   "source": [
    "# testing power spectrum:\n",
    "\n",
    "k1 = np.logspace(-8, 8, 501)\n",
    "fk = cd.powerLin(np.log(k1))\n",
    "\n",
    "plt.figure(figsize = (12, 6))\n",
    "plt.loglog()\n",
    "plt.plot(k1, fk, label = \"interp.\")\n",
    "plt.plot(k, pk, label = \"table\")\n",
    "plt.legend()\n",
    "plt.show()\n"
   ]
  },
  {
   "cell_type": "code",
   "execution_count": 6,
   "metadata": {},
   "outputs": [
    {
     "name": "stdout",
     "output_type": "stream",
     "text": [
      "linear var. =  5.401181426146088\n",
      "A var.      =  1.5535116894967078\n",
      "bias        =  0.5363062769370961\n"
     ]
    }
   ],
   "source": [
    "# variance/bias calculation:\n",
    "\n",
    "vlin = cd.varLin()\n",
    "print(\"linear var. = \", vlin)\n",
    "print(\"A var.      = \", cd.varA(vlin)) \n",
    "print(\"bias        = \", cd.biasA(vlin))"
   ]
  }
 ],
 "metadata": {
  "interpreter": {
   "hash": "31f2aee4e71d21fbe5cf8b01ff0e069b9275f58929596ceb00d14d90e3e16cd6"
  },
  "kernelspec": {
   "display_name": "Python 3.8.10 64-bit",
   "language": "python",
   "name": "python3"
  },
  "language_info": {
   "codemirror_mode": {
    "name": "ipython",
    "version": 3
   },
   "file_extension": ".py",
   "mimetype": "text/x-python",
   "name": "python",
   "nbconvert_exporter": "python",
   "pygments_lexer": "ipython3",
   "version": "3.6.9"
  },
  "orig_nbformat": 4
 },
 "nbformat": 4,
 "nbformat_minor": 2
}
