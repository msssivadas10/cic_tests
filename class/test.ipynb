{
 "cells": [
  {
   "cell_type": "code",
   "execution_count": 1,
   "metadata": {},
   "outputs": [],
   "source": [
    "import numpy as np, pandas as pd\n",
    "import matplotlib.pyplot as plt\n",
    "import seaborn as sbn\n",
    "\n",
    "plt.style.use('seaborn')\n",
    "\n",
    "from astropy.io import fits"
   ]
  },
  {
   "cell_type": "code",
   "execution_count": 90,
   "metadata": {},
   "outputs": [
    {
     "name": "stdout",
     "output_type": "stream",
     "text": [
      "XTENSION= 'BINTABLE'                                                            BITPIX  =                    8                                                  NAXIS   =                    2                                                  NAXIS1  =                  139                                                  NAXIS2  =               500000                                                  PCOUNT  =                    0                                                  GCOUNT  =                    1                                                  TFIELDS =                   19                                                  TFORM1  = '25A'                                                                 TTYPE1  = 'specObjID'                                                           TTYPE2  = 'bestObjID'                                                           TFORM2  = '1K'                                                                  TFORM3  = '1K'                                                                  TTYPE3  = 'targetObjID'                                                         TFORM4  = '1D'                                                                  TTYPE4  = 'ra'                                                                  TFORM5  = '1D'                                                                  TTYPE5  = 'dec'                                                                 TFORM6  = '1I'                                                                  TTYPE6  = 'type'                                                                TFORM7  = '32A'                                                                 TTYPE7  = 'class'                                                               TTYPE8  = 'z'                                                                   TFORM8  = '1E'                                                                  TFORM9  = '1E'                                                                  TTYPE9  = 'zErr'                                                                TFORM10 = '1E'                                                                  TTYPE10 = 'u_cmodel'                                                            TFORM11 = '1E'                                                                  TTYPE11 = 'g_cmodel'                                                            TFORM12 = '1E'                                                                  TTYPE12 = 'r_cmodel'                                                            TFORM13 = '1E'                                                                  TTYPE13 = 'i_cmodel'                                                            TTYPE14 = 'z_cmodel'                                                            TFORM14 = '1E'                                                                  TFORM15 = '1E'                                                                  TTYPE15 = 'u_cmodel_err'                                                        TFORM16 = '1E'                                                                  TTYPE16 = 'g_cmodel_err'                                                        TTYPE17 = 'r_cmodel_err'                                                        TFORM17 = '1E'                                                                  TTYPE18 = 'i_cmodel_err'                                                        TFORM18 = '1E'                                                                  TTYPE19 = 'z_cmodel_err'                                                        TFORM19 = '1E'                                                                  END                                                                                                                                                                                                                                                                                                                                                                                                                                                                                                                                                                                                                                                                                                                                                                                                                                                                                                                                                                                                                                                                                                                                                                                                                                                                                                                                                                                                                                                                                                                                                                                                                                                                                                                                                                                                                                                                                                                                                                                                                                                                                                                                                             \n"
     ]
    }
   ],
   "source": [
    "# hsc-ssp pdr3 wide spectroscopic database\n",
    "file = '../../../data/spec_data/sdss_dr18_specz.fits'\n",
    "# file = '../../../data/spec_data/hsc_ssp_pdr3_wide_specz.fits'\n",
    "\n",
    "with fits.open( file ) as fits_file:\n",
    "    # fits_file.verify( 'fix' )\n",
    "    data = fits_file[1].data\n",
    "    cols = fits_file[1].columns\n",
    "    print( fits_file[1].header )\n",
    "\n",
    "    # df = { col: data[ col ] for col in fits_file[1].columns.names }\n",
    "\n",
    "\n",
    "# cols\n",
    "# data['specObjID']"
   ]
  }
 ],
 "metadata": {
  "kernelspec": {
   "display_name": "base",
   "language": "python",
   "name": "python3"
  },
  "language_info": {
   "codemirror_mode": {
    "name": "ipython",
    "version": 3
   },
   "file_extension": ".py",
   "mimetype": "text/x-python",
   "name": "python",
   "nbconvert_exporter": "python",
   "pygments_lexer": "ipython3",
   "version": "3.9.7"
  },
  "orig_nbformat": 4,
  "vscode": {
   "interpreter": {
    "hash": "3145e1882a3d6999e819ebc82dc446045d7d556c3d184ef0a1b31ca53b3c8def"
   }
  }
 },
 "nbformat": 4,
 "nbformat_minor": 2
}
